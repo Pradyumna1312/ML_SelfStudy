{
  "cells": [
    {
      "cell_type": "markdown",
      "metadata": {
        "id": "view-in-github",
        "colab_type": "text"
      },
      "source": [
        "<a href=\"https://colab.research.google.com/github/Pradyumna1312/ML_SelfStudy/blob/main/ML_SelfStudy_SVM.ipynb\" target=\"_parent\"><img src=\"https://colab.research.google.com/assets/colab-badge.svg\" alt=\"Open In Colab\"/></a>"
      ]
    },
    {
      "cell_type": "markdown",
      "metadata": {
        "id": "4n-P4bdNxyJq"
      },
      "source": [
        "R.A. Fisher's landmark 1936 study made use of the Iris dataset. \n",
        "\n",
        "It contains three iris species, each with 50 samples, as well as some information about each flower, such as the total number of instances (150) and the number of attributes (four). One flower species is linearly separable from the other two, but the other two are not.\n",
        "\n",
        "The columns in this dataset are: Id, Sepal Length-Cm, Sepal Width-Cm, Petal Length-Cm, Petal Width-Cm and Species."
      ]
    },
    {
      "cell_type": "markdown",
      "metadata": {
        "id": "h4jo0mSYyNhW"
      },
      "source": [
        "* Download the Iris dataset from kaggle.com.\n",
        "\n",
        "* Implement Support Vector Machine in python to classify the flower species using the following Kernel individually:\n",
        "\n",
        "    1. Linear Kernel\n",
        "\n",
        "    2. RBF Kernel\n",
        "\n",
        "* Use regularisation parameter=1\n",
        "\n",
        "* Compare the classification results for the input (Sepal Length in Cm=2.9, Sepal Width in Cm=4.1, Petal Length in Cm=2.5 and Petal Width in Cm = 08) using both the kernels. \n",
        "\n"
      ]
    },
    {
      "cell_type": "code",
      "execution_count": null,
      "metadata": {
        "colab": {
          "background_save": true
        },
        "id": "L8B6NKaxLyOy"
      },
      "outputs": [],
      "source": [
        "import pandas as pd\n",
        "import numpy as np\n",
        "from sklearn import svm, datasets\n",
        "import matplotlib.pyplot as plt"
      ]
    },
    {
      "cell_type": "code",
      "execution_count": null,
      "metadata": {
        "id": "N_Dr_nDTlnM_"
      },
      "outputs": [],
      "source": [
        "def plotting_svc_with2features(X,y):\n",
        "  svc = svm.SVC(kernel='linear', C=C).fit(X[:, :2], y)\n",
        "  rbf_svc = svm.SVC(kernel='rbf', gamma=0.7, C=C).fit(X[:, :2], y)\n",
        "  x_min, x_max = X[:, 0].min() - 1, X[:, 0].max() + 1\n",
        "  y_min, y_max = X[:, 1].min() - 1, X[:, 1].max() + 1\n",
        "  xx, yy = np.meshgrid(np.arange(x_min, x_max, 0.2),\n",
        "                      np.arange(y_min, y_max, 0.2))\n",
        "  # title for the plots\n",
        "  titles = ['SVC with linear kernel',\n",
        "            'SVC with RBF kernel',]\n",
        "  for i, clf in enumerate((svc,  rbf_svc)):\n",
        "      plt.subplot(2, 2, i + 1)\n",
        "      plt.subplots_adjust(wspace=0.4, hspace=0.4)\n",
        "\n",
        "      Z = clf.predict(np.c_[xx.ravel(), yy.ravel()])\n",
        "\n",
        "      # Put the result into a color plot\n",
        "      Z = Z.reshape(xx.shape)\n",
        "      plt.contourf(xx, yy, Z, cmap=plt.cm.coolwarm, alpha=0.8)\n",
        "\n",
        "      # Plot also the training points\n",
        "      plt.scatter(X[:, 0], X[:, 1], c=y, cmap=plt.cm.coolwarm)\n",
        "      plt.xlabel('Sepal length')\n",
        "      plt.ylabel('Sepal width')\n",
        "      plt.xlim(xx.min(), xx.max())\n",
        "      plt.ylim(yy.min(), yy.max())\n",
        "      plt.xticks(())\n",
        "      plt.yticks(())\n",
        "      plt.title(titles[i])\n",
        "  plt.show()"
      ]
    },
    {
      "cell_type": "code",
      "execution_count": null,
      "metadata": {
        "id": "4kJequApTPIi"
      },
      "outputs": [],
      "source": [
        "iris = datasets.load_iris()\n",
        "X = iris.data[:, :4] \n",
        "y = iris.target"
      ]
    },
    {
      "cell_type": "code",
      "execution_count": null,
      "metadata": {
        "colab": {
          "base_uri": "https://localhost:8080/"
        },
        "id": "ZjtmE36goAFy",
        "outputId": "5e1cf126-7568-48c6-ba99-ea577c203d02"
      },
      "outputs": [
        {
          "name": "stdout",
          "output_type": "stream",
          "text": [
            "[2]\n",
            "[2]\n"
          ]
        },
        {
          "data": {
            "image/png": "[encoded data removed]",
            "text/plain": [
              "<Figure size 432x288 with 2 Axes>"
            ]
          },
          "metadata": {},
          "output_type": "display_data"
        }
      ],
      "source": [
        "C = 1.0  # SVM regularization parameter\n",
        "svc = svm.SVC(kernel='linear', C=C).fit(X, y)\n",
        "rbf_svc = svm.SVC(kernel='rbf', gamma=0.7, C=C).fit(X, y)\n",
        "svc.fit(X,y)\n",
        "rbf_svc.fit(X,y)\n",
        "print(svc.predict([[2.9,4.1,2.5,8]]))\n",
        "print(rbf_svc.predict([[2.9,4.1,2.5,8]]))\n",
        "plotting_svc_with2features(X,y)"
      ]
    },
    {
      "cell_type": "markdown",
      "metadata": {
        "id": "juA77dnySlpb"
      },
      "source": [
        "* Repeat the above four steps by reducing each iris species with 25 samples and comment on the classification results."
      ]
    },
    {
      "cell_type": "code",
      "execution_count": null,
      "metadata": {
        "colab": {
          "base_uri": "https://localhost:8080/"
        },
        "id": "13w_sPItSiXC",
        "outputId": "9a0d7355-c23b-42b6-b737-f84953bfd8b9"
      },
      "outputs": [
        {
          "ename": "NameError",
          "evalue": "ignored",
          "output_type": "error",
          "traceback": [
            "\u001b[0;31m---------------------------------------------------------------------------\u001b[0m",
            "\u001b[0;31mNameError\u001b[0m                                 Traceback (most recent call last)",
            "\u001b[0;32m<ipython-input-1-9006938972b2>\u001b[0m in \u001b[0;36m<module>\u001b[0;34m()\u001b[0m\n\u001b[0;32m----> 1\u001b[0;31m \u001b[0miris\u001b[0m \u001b[0;34m=\u001b[0m \u001b[0mdatasets\u001b[0m\u001b[0;34m.\u001b[0m\u001b[0mload_iris\u001b[0m\u001b[0;34m(\u001b[0m\u001b[0;34m)\u001b[0m\u001b[0;34m\u001b[0m\u001b[0;34m\u001b[0m\u001b[0m\n\u001b[0m\u001b[1;32m      2\u001b[0m \u001b[0mX\u001b[0m \u001b[0;34m=\u001b[0m \u001b[0miris\u001b[0m\u001b[0;34m.\u001b[0m\u001b[0mdata\u001b[0m\u001b[0;34m[\u001b[0m\u001b[0;34m:\u001b[0m\u001b[0;34m,\u001b[0m \u001b[0;34m:\u001b[0m\u001b[0;36m4\u001b[0m\u001b[0;34m]\u001b[0m\u001b[0;34m\u001b[0m\u001b[0;34m\u001b[0m\u001b[0m\n\u001b[1;32m      3\u001b[0m \u001b[0my\u001b[0m \u001b[0;34m=\u001b[0m \u001b[0miris\u001b[0m\u001b[0;34m.\u001b[0m\u001b[0mtarget\u001b[0m\u001b[0;34m\u001b[0m\u001b[0;34m\u001b[0m\u001b[0m\n\u001b[1;32m      4\u001b[0m \u001b[0mx1\u001b[0m\u001b[0;34m=\u001b[0m\u001b[0mX\u001b[0m\u001b[0;34m[\u001b[0m\u001b[0;36m0\u001b[0m\u001b[0;34m:\u001b[0m\u001b[0;36m25\u001b[0m\u001b[0;34m]\u001b[0m\u001b[0;34m\u001b[0m\u001b[0;34m\u001b[0m\u001b[0m\n\u001b[1;32m      5\u001b[0m \u001b[0mx2\u001b[0m\u001b[0;34m=\u001b[0m\u001b[0mX\u001b[0m\u001b[0;34m[\u001b[0m\u001b[0;36m50\u001b[0m\u001b[0;34m:\u001b[0m\u001b[0;36m75\u001b[0m\u001b[0;34m]\u001b[0m\u001b[0;34m\u001b[0m\u001b[0;34m\u001b[0m\u001b[0m\n",
            "\u001b[0;31mNameError\u001b[0m: name 'datasets' is not defined"
          ]
        }
      ],
      "source": [
        "iris = datasets.load_iris()\n",
        "X = iris.data[:, :4]\n",
        "y = iris.target\n",
        "x1=X[0:25]\n",
        "x2=X[50:75]\n",
        "x3=X[100:125]\n",
        "y1=y[0:25]\n",
        "y2=y[50:75]\n",
        "y3=y[100:125]\n",
        "X1=[0]*75\n",
        "Y1=[0]*75\n",
        "for i in range(25):\n",
        "    X1[i]=x1[i]\n",
        "    Y1[i]=y1[i]\n",
        "for i in range(25):\n",
        "    X1[i+25]=x2[i]\n",
        "    Y1[i+25]=y2[i]\n",
        "for i in range(25):\n",
        "    X1[i+50]=x3[i]\n",
        "    Y1[i+50]=y3[i]\n",
        "X2=np.array(X1)\n",
        "Y2=np.array(Y1)\n",
        "X3 = X[0:25]\n",
        "X3 = X3.append(X[50:75])\n",
        "print(X1,X3)\n",
        "C = 1.0  \n",
        "svc = svm.SVC(kernel='linear', C=C).fit(X2, Y2)\n",
        "rbf_svc = svm.SVC(kernel='rbf', gamma=0.7, C=C).fit(X2, Y2)\n",
        "svc.fit(X,y)\n",
        "rbf_svc.fit(X,y)\n",
        "print(svc.predict([[2.9,4.1,2.5,8]]))\n",
        "print(rbf_svc.predict([[2.9,4.1,2.5,8]]))\n",
        "plotting_svc_with2features(X,y)"
      ]
    }
  ],
  "metadata": {
    "colab": {
      "name": "ML_SelfStudy_SVM.ipynb",
      "provenance": [],
      "authorship_tag": "ABX9TyMWtmDgP2kNHtFLJ5mAQ9iK",
      "include_colab_link": true
    },
    "kernelspec": {
      "display_name": "Python 3",
      "name": "python3"
    },
    "language_info": {
      "name": "python"
    }
  },
  "nbformat": 4,
  "nbformat_minor": 0
}
