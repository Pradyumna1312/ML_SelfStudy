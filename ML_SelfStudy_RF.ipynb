{
  "nbformat": 4,
  "nbformat_minor": 0,
  "metadata": {
    "colab": {
      "name": "ML_SelfStudy_RF.ipynb",
      "provenance": [],
      "authorship_tag": "ABX9TyPanvsLO86pRIykq3nUvyAe",
      "include_colab_link": true
    },
    "kernelspec": {
      "name": "python3",
      "display_name": "Python 3"
    },
    "language_info": {
      "name": "python"
    }
  },
  "cells": [
    {
      "cell_type": "markdown",
      "metadata": {
        "id": "view-in-github",
        "colab_type": "text"
      },
      "source": [
        "<a href=\"https://colab.research.google.com/github/Pradyumna1312/ML_SelfStudy/blob/main/ML_SelfStudy_RF.ipynb\" target=\"_parent\"><img src=\"https://colab.research.google.com/assets/colab-badge.svg\" alt=\"Open In Colab\"/></a>"
      ]
    },
    {
      "cell_type": "markdown",
      "source": [
        "Using the iris flower dataset, create a Random Forest model in Python to categorise the type\n",
        "of flower. It includes the sepal length, sepal breadth, petal length, petal width, and floral type.\n",
        "Setosa, versicolor, and virginia are the three species or classes. You may find the dataset in the\n",
        "Scikit-learn package or get it from the UCI Machine Learning Repository.\n",
        "\n",
        "Implement **Random Forest Algorithm** in Python"
      ],
      "metadata": {
        "id": "jp4Fq40h681N"
      }
    },
    {
      "cell_type": "markdown",
      "source": [
        "* Import the datasets"
      ],
      "metadata": {
        "id": "gqsW-IOVN4u5"
      }
    },
    {
      "cell_type": "code",
      "execution_count": null,
      "metadata": {
        "id": "g8hsrGbMQcUZ"
      },
      "outputs": [],
      "source": [
        "import numpy as np\n",
        "import pandas as pd\n",
        "import sklearn\n",
        "from sklearn.model_selection import train_test_split\n",
        "from sklearn.ensemble import RandomForestClassifier\n",
        "from sklearn.metrics import accuracy_score\n",
        "from sklearn.datasets import load_iris\n",
        "import sklearn.metrics as metrics\n"
      ]
    },
    {
      "cell_type": "markdown",
      "source": [
        "* Print the labels and feature names\n",
        "\n"
      ],
      "metadata": {
        "id": "YoQYqtlm7L7E"
      }
    },
    {
      "cell_type": "code",
      "source": [
        "iris_data=load_iris()\n",
        "iris=pd.DataFrame(iris_data.data)\n",
        "print(\"IRIS Target names\", iris_data.target_names)\n",
        "print(\"IRIS Features name\", iris_data.feature_names)\n",
        "\n"
      ],
      "metadata": {
        "colab": {
          "base_uri": "https://localhost:8080/"
        },
        "id": "9ksBhfBGRPbC",
        "outputId": "c326a668-5427-4585-efc1-6af3582aa5d8"
      },
      "execution_count": null,
      "outputs": [
        {
          "output_type": "stream",
          "name": "stdout",
          "text": [
            "IRIS Target names ['setosa' 'versicolor' 'virginica']\n",
            "IRIS Features name ['sepal length (cm)', 'sepal width (cm)', 'petal length (cm)', 'petal width (cm)']\n"
          ]
        }
      ]
    },
    {
      "cell_type": "markdown",
      "source": [
        "* Separate the columns into dependent and independent variables"
      ],
      "metadata": {
        "id": "e5as5GIEvIPE"
      }
    },
    {
      "cell_type": "code",
      "source": [
        "X=iris.values\n",
        "Y=iris_data.target"
      ],
      "metadata": {
        "id": "wom5m3SsvE4M"
      },
      "execution_count": null,
      "outputs": []
    },
    {
      "cell_type": "markdown",
      "source": [
        "* Split those variables into a training and test set (70% and 30% respectively)\n",
        "* Train the model on the training set.\n",
        "* Perform predictions on the test set.\n",
        "* Predict the accuracy of the model\n",
        "* Make a prediction for the input sample: sepal length = 4, sepal width = 3, petal length =\n",
        "5, petal width = 1.5"
      ],
      "metadata": {
        "id": "KCbw48RY7gy1"
      }
    },
    {
      "cell_type": "code",
      "source": [
        "X_train, X_test, Y_train, Y_test= train_test_split(X,Y,test_size=0.3, random_state=0) # Splitting\n",
        "clf=RandomForestClassifier(random_state=0) \n",
        "clf.fit(X_train, Y_train) # Training\n",
        "Y_pred=clf.predict(X_test) # Predicting\n",
        "print(\"Accuracy of the model: \",metrics.accuracy_score(Y_test, Y_pred))  # Accuracy\n",
        "print(\"Prediction through Random Forest =\",clf.predict([[4,3,5,1.5]])) # Prediction for the given \n"
      ],
      "metadata": {
        "colab": {
          "base_uri": "https://localhost:8080/"
        },
        "id": "K4_QTkkxRcYY",
        "outputId": "6ba4bcc4-1211-45dd-f601-3e02431fcc22"
      },
      "execution_count": null,
      "outputs": [
        {
          "output_type": "stream",
          "name": "stdout",
          "text": [
            "Accuracy of the model:  0.9777777777777777\n",
            "Prediction through Random Forest = [2]\n"
          ]
        }
      ]
    },
    {
      "cell_type": "markdown",
      "source": [
        "Repeat the above steps by reducing each iris species to 25 samples and comment on the class\n",
        "prediction accuracy."
      ],
      "metadata": {
        "id": "Seg_yfGzQ8Az"
      }
    },
    {
      "cell_type": "code",
      "source": [
        "x1=X[0:25]\n",
        "x2=X[50:75]\n",
        "x3=X[100:125]\n",
        "y1=Y[0:25]\n",
        "y2=Y[50:75]\n",
        "y3=Y[100:125]\n",
        "X1=[0]*75\n",
        "Y1=[0]*75\n",
        "for i in range(25):\n",
        "    X1[i]=x1[i]\n",
        "    Y1[i]=y1[i]\n",
        "for i in range(25):\n",
        "    X1[i+25]=x2[i]\n",
        "    Y1[i+25]=y2[i]\n",
        "for i in range(25):\n",
        "    X1[i+50]=x3[i]\n",
        "    Y1[i+50]=y3[i]\n",
        "X2=np.array(X1)\n",
        "Y2=np.array(Y1)\n"
      ],
      "metadata": {
        "id": "P0elpQSrRgVO"
      },
      "execution_count": null,
      "outputs": []
    },
    {
      "cell_type": "code",
      "source": [
        "X_train, X_test, Y_train, Y_test= train_test_split(X2,Y2,test_size=0.3, random_state=0) # Splitting\n",
        "clf=RandomForestClassifier(random_state=0) \n",
        "clf.fit(X_train, Y_train) # Training\n",
        "Y_pred=clf.predict(X_test) # Predicting\n",
        "print(\"Accuracy of the model: \",metrics.accuracy_score(Y_test, Y_pred))  # Accuracy\n",
        "print(\"Prediction through Random Forest =\",clf.predict([[4,3,5,1.5]])) # Prediction for the given "
      ],
      "metadata": {
        "colab": {
          "base_uri": "https://localhost:8080/"
        },
        "id": "9Y3ok69hRmGX",
        "outputId": "a5b3f22d-1c06-4335-b23e-38b34b94f57e"
      },
      "execution_count": null,
      "outputs": [
        {
          "output_type": "stream",
          "name": "stdout",
          "text": [
            "Accuracy of the model:  0.9565217391304348\n",
            "Prediction through Random Forest = [2]\n"
          ]
        }
      ]
    }
  ]
}